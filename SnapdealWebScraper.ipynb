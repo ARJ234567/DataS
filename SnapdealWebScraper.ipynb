{
 "cells": [
  {
   "cell_type": "code",
   "execution_count": 2,
   "id": "c742c82d",
   "metadata": {},
   "outputs": [],
   "source": [
    "from bs4 import BeautifulSoup\n",
    "import requests\n",
    "import time\n",
    "import datetime\n",
    "import smtplib"
   ]
  },
  {
   "cell_type": "code",
   "execution_count": 25,
   "id": "234dce3e",
   "metadata": {},
   "outputs": [],
   "source": [
    "URL='https://www.snapdeal.com/product/furo-by-redchief-black-mens/669778109854'\n",
    "headers={\"User-Agent\": \"Mozilla/5.0 (Windows NT 10.0; Win64; x64) AppleWebKit/537.36 (KHTML, like Gecko) Chrome/114.0.0.0 Safari/537.36\", \"Accept-Encoding\": \"gzip, deflate, br\", \n",
    "    \"Accept-Language\": \"en-US,en;q=0.9\", \"Accept\": \"text/html,application/xhtml+xml,application/xml;q=0.9,image/avif,image/webp,image/apng,*/*;q=0.8,application/signed-exchange;v=b3;q=0.7\"}"
   ]
  },
  {
   "cell_type": "code",
   "execution_count": 78,
   "id": "a2e026ff",
   "metadata": {},
   "outputs": [
    {
     "name": "stdout",
     "output_type": "stream",
     "text": [
      "\n",
      "           Furo By Redchief - Black Men's Sports Running Shoes\n",
      "          \n",
      "\n",
      "                1349\n",
      "               \n"
     ]
    }
   ],
   "source": [
    "page=requests.get(URL,headers=headers)\n",
    "soup1=BeautifulSoup(page.content,\"lxml\")\n",
    "soup2=BeautifulSoup(soup1.prettify(),\"lxml\")\n",
    "title=soup2.find(itemprop=\"name\").get_text()\n",
    "print(title)\n",
    "price=soup2.find(itemprop=\"price\").get_text()\n",
    "print(price)\n"
   ]
  },
  {
   "cell_type": "code",
   "execution_count": 64,
   "id": "ae97df17",
   "metadata": {},
   "outputs": [],
   "source": [
    "import datetime\n",
    "Date=datetime.date.today()"
   ]
  },
  {
   "cell_type": "code",
   "execution_count": 65,
   "id": "6eb44de6",
   "metadata": {},
   "outputs": [],
   "source": [
    "import csv"
   ]
  },
  {
   "cell_type": "code",
   "execution_count": 66,
   "id": "90127e35",
   "metadata": {},
   "outputs": [],
   "source": [
    "header=['Title','Price','Date']"
   ]
  },
  {
   "cell_type": "code",
   "execution_count": 81,
   "id": "51f2d542",
   "metadata": {},
   "outputs": [
    {
     "data": {
      "text/plain": [
       "list"
      ]
     },
     "execution_count": 81,
     "metadata": {},
     "output_type": "execute_result"
    }
   ],
   "source": [
    "data=[title,price,Date]\n",
    "type(data)"
   ]
  },
  {
   "cell_type": "code",
   "execution_count": 82,
   "id": "2464005e",
   "metadata": {},
   "outputs": [],
   "source": [
    "with open(\"Snapdealdata2.csv\", \"w\", newline='',encoding=\"UTF8\") as f:\n",
    "    writer=csv.writer(f)\n",
    "    writer.writerow(header)\n",
    "    writer.writerow(data)  "
   ]
  },
  {
   "cell_type": "code",
   "execution_count": 90,
   "id": "83e05051",
   "metadata": {},
   "outputs": [
    {
     "name": "stdout",
     "output_type": "stream",
     "text": [
      "                                               Title  Price        Date\n",
      "0  \\n           Furo By Redchief - Black Men's Sp...   1349  2023-07-16\n",
      "1  \\n           Furo By Redchief - Black Men's Sp...   1349  2023-07-16\n",
      "2  \\n           Furo By Redchief - Black Men's Sp...   1349  2023-07-16\n",
      "3  \\n           Furo By Redchief - Black Men's Sp...   1349  2023-07-16\n",
      "4  \\n           Furo By Redchief - Black Men's Sp...   1349  2023-07-16\n"
     ]
    }
   ],
   "source": [
    "import pandas as pd\n",
    "Data=pd.read_csv(\"Snapdealdata2.csv\")\n",
    "print(Data)"
   ]
  },
  {
   "cell_type": "code",
   "execution_count": 89,
   "id": "48983a72",
   "metadata": {},
   "outputs": [],
   "source": [
    "#Appending Data to the file\n",
    "\n",
    "with open(\"Snapdealdata2.csv\", \"a+\", newline='', encoding=\"UTF8\") as f:\n",
    "    writer=csv.writer(f)\n",
    "    writer.writerow(data)"
   ]
  },
  {
   "cell_type": "code",
   "execution_count": 92,
   "id": "fa8fe818",
   "metadata": {},
   "outputs": [],
   "source": [
    "def check_price_shoes():\n",
    "    page=requests.get(URL,headers=headers)\n",
    "    soup1=BeautifulSoup(page.content,\"lxml\")\n",
    "    soup2=BeautifulSoup(soup1.prettify(),\"lxml\")\n",
    "    title=soup2.find(itemprop=\"name\").get_text()\n",
    "    print(title)\n",
    "    price=soup2.find(itemprop=\"price\").get_text()\n",
    "    print(price)\n",
    "    import datetime\n",
    "    Date=datetime.date.today()\n",
    "    import csv\n",
    "    header=['Title','Price','Date']\n",
    "    data=[title,price,Date]\n",
    "    type(data)\n",
    "    with open(\"Snapdealdata2.csv\", \"a+\", newline='',encoding=\"UTF8\") as f:\n",
    "        writer=csv.writer(f)\n",
    "        writer.writerow(data)  \n",
    "    "
   ]
  },
  {
   "cell_type": "code",
   "execution_count": null,
   "id": "fdafd1b5",
   "metadata": {},
   "outputs": [
    {
     "name": "stdout",
     "output_type": "stream",
     "text": [
      "\n",
      "           Furo By Redchief - Black Men's Sports Running Shoes\n",
      "          \n",
      "\n",
      "                1349\n",
      "               \n",
      "\n",
      "           Furo By Redchief - Black Men's Sports Running Shoes\n",
      "          \n",
      "\n",
      "                1349\n",
      "               \n",
      "\n",
      "           Furo By Redchief - Black Men's Sports Running Shoes\n",
      "          \n",
      "\n",
      "                1349\n",
      "               \n",
      "\n",
      "           Furo By Redchief - Black Men's Sports Running Shoes\n",
      "          \n",
      "\n",
      "                1349\n",
      "               \n",
      "\n",
      "           Furo By Redchief - Black Men's Sports Running Shoes\n",
      "          \n",
      "\n",
      "                1349\n",
      "               \n",
      "\n",
      "           Furo By Redchief - Black Men's Sports Running Shoes\n",
      "          \n",
      "\n",
      "                1349\n",
      "               \n",
      "\n",
      "           Furo By Redchief - Black Men's Sports Running Shoes\n",
      "          \n",
      "\n",
      "                1349\n",
      "               \n",
      "\n",
      "           Furo By Redchief - Black Men's Sports Running Shoes\n",
      "          \n",
      "\n",
      "                1349\n",
      "               \n",
      "\n",
      "           Furo By Redchief - Black Men's Sports Running Shoes\n",
      "          \n",
      "\n",
      "                1349\n",
      "               \n",
      "\n",
      "           Furo By Redchief - Black Men's Sports Running Shoes\n",
      "          \n",
      "\n",
      "                1349\n",
      "               \n",
      "\n",
      "           Furo By Redchief - Black Men's Sports Running Shoes\n",
      "          \n",
      "\n",
      "                1349\n",
      "               \n",
      "\n",
      "           Furo By Redchief - Black Men's Sports Running Shoes\n",
      "          \n",
      "\n",
      "                1349\n",
      "               \n",
      "\n",
      "           Furo By Redchief - Black Men's Sports Running Shoes\n",
      "          \n",
      "\n",
      "                1349\n",
      "               \n",
      "\n",
      "           Furo By Redchief - Black Men's Sports Running Shoes\n",
      "          \n",
      "\n",
      "                1349\n",
      "               \n",
      "\n",
      "           Furo By Redchief - Black Men's Sports Running Shoes\n",
      "          \n",
      "\n",
      "                1349\n",
      "               \n",
      "\n",
      "           Furo By Redchief - Black Men's Sports Running Shoes\n",
      "          \n",
      "\n",
      "                1349\n",
      "               \n"
     ]
    }
   ],
   "source": [
    "while(True):\n",
    "    check_price_shoes()\n",
    "    time.sleep(60)"
   ]
  },
  {
   "cell_type": "code",
   "execution_count": null,
   "id": "b4e2656b",
   "metadata": {},
   "outputs": [],
   "source": [
    "import pandas as pd\n",
    "Data=pd.read_csv(r\"Snapdealdata2.csv\")\n",
    "print(Data)"
   ]
  },
  {
   "cell_type": "code",
   "execution_count": null,
   "id": "dcd87e3c",
   "metadata": {},
   "outputs": [],
   "source": []
  }
 ],
 "metadata": {
  "kernelspec": {
   "display_name": "Python 3 (ipykernel)",
   "language": "python",
   "name": "python3"
  },
  "language_info": {
   "codemirror_mode": {
    "name": "ipython",
    "version": 3
   },
   "file_extension": ".py",
   "mimetype": "text/x-python",
   "name": "python",
   "nbconvert_exporter": "python",
   "pygments_lexer": "ipython3",
   "version": "3.9.13"
  }
 },
 "nbformat": 4,
 "nbformat_minor": 5
}
